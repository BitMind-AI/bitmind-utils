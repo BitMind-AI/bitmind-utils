{
 "cells": [
  {
   "cell_type": "code",
   "execution_count": 1,
   "outputs": [],
   "source": [
    "from collections import defaultdict\n",
    "import numpy as np\n",
    "import pandas as pd\n",
    "import wandb\n",
    "\n",
    "from utils.metrics import compute_metrics"
   ],
   "metadata": {
    "collapsed": false,
    "ExecuteTime": {
     "end_time": "2024-09-04T02:35:55.506269Z",
     "start_time": "2024-09-04T02:35:53.961533Z"
    }
   },
   "id": "14848402081f829b"
  },
  {
   "cell_type": "code",
   "execution_count": 4,
   "outputs": [],
   "source": [
    "def compute_miner_performance(\n",
    "        wandb_validator_runs,\n",
    "        miner_uid=None, \n",
    "        start_ts=None,\n",
    "        end_ts=None):\n",
    "\n",
    "    miner_perf = {}\n",
    "    for run in wandb_validator_runs:\n",
    "        if run.state != 'running':\n",
    "            continue\n",
    "\n",
    "        history_df = run.history()\n",
    "\n",
    "        for i, challenge_row in history_df.iterrows():\n",
    "            if start_ts is not None and challenge_row['_timestamp'] < start_ts:\n",
    "                continue\n",
    "            if end_ts is not None and challenge_row['_timestamp'] > end_ts:\n",
    "                continue\n",
    "\n",
    "            label = challenge_row['label']\n",
    "\n",
    "            try:\n",
    "                miner_preds = challenge_row['pred']\n",
    "            except KeyError as e:\n",
    "                miner_preds = challenge_row['predictions']\n",
    "                \n",
    "            try:\n",
    "                miner_uids = challenge_row['miner_uid']\n",
    "            except KeyError as e:\n",
    "                miner_uids = challenge_row['miner_uids']\n",
    "                \n",
    "            if isinstance(miner_uids, dict):  \n",
    "                continue  # ignore improperly formatted instances\n",
    "    \n",
    "            # compute correctness of each miner prediction for the current challenge\n",
    "            for pred, uid in zip(miner_preds, miner_uids):\n",
    "                if miner_uid is not None and uid != miner_uid:\n",
    "                    continue\n",
    "    \n",
    "                if pred == -1:\n",
    "                    continue\n",
    "\n",
    "                if uid not in miner_perf:\n",
    "                    miner_perf[uid] = defaultdict(int)\n",
    "\n",
    "                if label == 1:      \n",
    "                    if pred > 0.5:\n",
    "                        miner_perf[uid]['tp'] += 1\n",
    "                    else: \n",
    "                        miner_perf[uid]['fn'] += 1\n",
    "                elif label == 0:\n",
    "                    if pred > 0.5:\n",
    "                        miner_perf[uid]['fp'] += 1\n",
    "                    else: \n",
    "                        miner_perf[uid]['tn'] += 1\n",
    "                            \n",
    "    metrics = {uid: compute_metrics(**miner_perf[uid]) for uid in miner_perf}\n",
    "    flattened_metrics = []\n",
    "    for uid, metric_dict in metrics.items():\n",
    "        flattened_metrics.append({'uid': uid, **metric_dict})\n",
    "    metrics_df = pd.DataFrame(flattened_metrics)\n",
    "\n",
    "    return metrics_df\n"
   ],
   "metadata": {
    "collapsed": false,
    "ExecuteTime": {
     "end_time": "2024-09-04T02:36:12.755659Z",
     "start_time": "2024-09-04T02:36:12.753557Z"
    }
   },
   "id": "6a38abff65f80baa"
  },
  {
   "cell_type": "code",
   "execution_count": 5,
   "outputs": [
    {
     "data": {
      "text/plain": "   uid  accuracy  precision    recall  f1_score  sample_size\n0    0  0.845679   0.949943  0.731814  0.826733         2268",
      "text/html": "<div>\n<style scoped>\n    .dataframe tbody tr th:only-of-type {\n        vertical-align: middle;\n    }\n\n    .dataframe tbody tr th {\n        vertical-align: top;\n    }\n\n    .dataframe thead th {\n        text-align: right;\n    }\n</style>\n<table border=\"1\" class=\"dataframe\">\n  <thead>\n    <tr style=\"text-align: right;\">\n      <th></th>\n      <th>uid</th>\n      <th>accuracy</th>\n      <th>precision</th>\n      <th>recall</th>\n      <th>f1_score</th>\n      <th>sample_size</th>\n    </tr>\n  </thead>\n  <tbody>\n    <tr>\n      <th>0</th>\n      <td>0</td>\n      <td>0.845679</td>\n      <td>0.949943</td>\n      <td>0.731814</td>\n      <td>0.826733</td>\n      <td>2268</td>\n    </tr>\n  </tbody>\n</table>\n</div>"
     },
     "execution_count": 5,
     "metadata": {},
     "output_type": "execute_result"
    }
   ],
   "source": [
    "api = wandb.Api()\n",
    "project = \"bitmind-subnet\"\n",
    "entity = \"bitmindai\"\n",
    "\n",
    "runs = api.runs(f\"{entity}/{project}\")\n",
    "\n",
    "metrics_df = compute_miner_performance(\n",
    "    runs,\n",
    "    miner_uid=0,  # example uid\n",
    "    start_ts=1724832296.0833144,  # example timestamp\n",
    "    end_ts=None)\n",
    "\n",
    "metrics_df"
   ],
   "metadata": {
    "collapsed": false,
    "ExecuteTime": {
     "end_time": "2024-09-04T02:36:23.836112Z",
     "start_time": "2024-09-04T02:36:12.965296Z"
    }
   },
   "id": "cf87818a8afd8bb8"
  },
  {
   "cell_type": "code",
   "execution_count": null,
   "outputs": [],
   "source": [],
   "metadata": {
    "collapsed": false
   },
   "id": "38942744d9d6f5db"
  }
 ],
 "metadata": {
  "kernelspec": {
   "name": "bmsn",
   "language": "python",
   "display_name": "bmsn"
  },
  "language_info": {
   "codemirror_mode": {
    "name": "ipython",
    "version": 2
   },
   "file_extension": ".py",
   "mimetype": "text/x-python",
   "name": "python",
   "nbconvert_exporter": "python",
   "pygments_lexer": "ipython2",
   "version": "2.7.6"
  }
 },
 "nbformat": 4,
 "nbformat_minor": 5
}
