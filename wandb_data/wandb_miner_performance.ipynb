{
 "cells": [
  {
   "cell_type": "markdown",
   "id": "cc03fb1f",
   "metadata": {},
   "source": [
    "### Quick Links\n",
    "- [Mainnet Performance Example](#mainnet-example)\n",
    "- [Testnet Performance Example](#testnet-example)"
   ]
  },
  {
   "cell_type": "code",
   "execution_count": 1,
   "id": "14848402081f829b",
   "metadata": {
    "ExecuteTime": {
     "end_time": "2024-09-17T15:33:00.660235Z",
     "start_time": "2024-09-17T15:32:58.822478Z"
    },
    "collapsed": false
   },
   "outputs": [],
   "source": [
    "from PIL import Image\n",
    "import matplotlib.pyplot as plt\n",
    "\n",
    "from performance import compute_miner_performance\n",
    "from helpers import formatted_ts_from_epoch, epoch_from_formatted_ts\n",
    "from data import get_wanbd_runs"
   ]
  },
  {
   "cell_type": "markdown",
   "id": "4e9ff1d6bc51f3ee",
   "metadata": {
    "collapsed": false
   },
   "source": [
    "### Mainnet Example"
   ]
  },
  {
   "cell_type": "code",
   "execution_count": 2,
   "id": "cf87818a8afd8bb8",
   "metadata": {
    "ExecuteTime": {
     "end_time": "2024-09-10T19:04:09.648975Z",
     "start_time": "2024-09-10T19:04:09.476376Z"
    },
    "collapsed": false
   },
   "outputs": [
    {
     "name": "stdout",
     "output_type": "stream",
     "text": [
      "Querying data for uid 0 starting at 2025-01-04T16:09:49\n"
     ]
    }
   ],
   "source": [
    "project = \"bitmind-subnet\"  # mainnet wandb project name\n",
    "entity = \"bitmindai\"\n",
    "validator_run_name = 'validator-6-2.0.3'\n",
    "start_dt = '2025-01-04T16:09:49'\n",
    "# start_dt = formatted_ts_from_epoch(1729494162)\n",
    "end_dt = None\n",
    "\n",
    "miner_uid = 0\n",
    "print(f'Querying data for uid {miner_uid} starting at {start_dt}')"
   ]
  },
  {
   "cell_type": "code",
   "execution_count": 3,
   "id": "37dd8282",
   "metadata": {},
   "outputs": [
    {
     "name": "stdout",
     "output_type": "stream",
     "text": [
      "Querying w&b with filters: {'display_name': 'validator-6-2.0.3', 'created_at': {'$gte': '2025-01-04T16:09:49'}}\n",
      "Fetched 7 runs\n"
     ]
    }
   ],
   "source": [
    "runs = get_wanbd_runs(entity, project, start_dt, end_dt, validator_run_name)\n",
    "print(f'Fetched {len(runs)} runs')"
   ]
  },
  {
   "cell_type": "code",
   "execution_count": 4,
   "id": "ae1fec8d",
   "metadata": {},
   "outputs": [
    {
     "data": {
      "text/plain": [
       "dict_keys(['predictions', 'performance'])"
      ]
     },
     "execution_count": 4,
     "metadata": {},
     "output_type": "execute_result"
    }
   ],
   "source": [
    "results = compute_miner_performance(\n",
    "    runs,\n",
    "    miner_uid=miner_uid,  # example uid\n",
    "    start_ts=epoch_from_formatted_ts(start_dt),\n",
    "    end_ts=epoch_from_formatted_ts(end_dt),\n",
    "    validator_run_name=validator_run_name)\n",
    "\n",
    "results.keys()"
   ]
  },
  {
   "cell_type": "code",
   "execution_count": 7,
   "id": "8f102360",
   "metadata": {},
   "outputs": [
    {
     "data": {
      "text/html": [
       "<div>\n",
       "<style scoped>\n",
       "    .dataframe tbody tr th:only-of-type {\n",
       "        vertical-align: middle;\n",
       "    }\n",
       "\n",
       "    .dataframe tbody tr th {\n",
       "        vertical-align: top;\n",
       "    }\n",
       "\n",
       "    .dataframe thead th {\n",
       "        text-align: right;\n",
       "    }\n",
       "</style>\n",
       "<table border=\"1\" class=\"dataframe\">\n",
       "  <thead>\n",
       "    <tr style=\"text-align: right;\">\n",
       "      <th></th>\n",
       "      <th>modality</th>\n",
       "      <th>uid</th>\n",
       "      <th>prediction</th>\n",
       "      <th>label</th>\n",
       "      <th>wandb_filepath</th>\n",
       "      <th>local_filepath</th>\n",
       "    </tr>\n",
       "  </thead>\n",
       "  <tbody>\n",
       "    <tr>\n",
       "      <th>0</th>\n",
       "      <td>image</td>\n",
       "      <td>0</td>\n",
       "      <td>1</td>\n",
       "      <td>1</td>\n",
       "      <td>media/images/image_1_409a85d349a1338aa27d.png</td>\n",
       "      <td>not downloaded</td>\n",
       "    </tr>\n",
       "    <tr>\n",
       "      <th>1</th>\n",
       "      <td>video</td>\n",
       "      <td>0</td>\n",
       "      <td>0</td>\n",
       "      <td>0</td>\n",
       "      <td>media/videos/video_20_97c0e814f13b877483c0.gif</td>\n",
       "      <td>not downloaded</td>\n",
       "    </tr>\n",
       "    <tr>\n",
       "      <th>2</th>\n",
       "      <td>image</td>\n",
       "      <td>0</td>\n",
       "      <td>0</td>\n",
       "      <td>0</td>\n",
       "      <td>media/images/image_29_b82febbfa436c27ffbe8.png</td>\n",
       "      <td>not downloaded</td>\n",
       "    </tr>\n",
       "    <tr>\n",
       "      <th>3</th>\n",
       "      <td>video</td>\n",
       "      <td>0</td>\n",
       "      <td>1</td>\n",
       "      <td>1</td>\n",
       "      <td>media/videos/video_31_5f5af1a43efc63aad39d.gif</td>\n",
       "      <td>not downloaded</td>\n",
       "    </tr>\n",
       "    <tr>\n",
       "      <th>4</th>\n",
       "      <td>video</td>\n",
       "      <td>0</td>\n",
       "      <td>0</td>\n",
       "      <td>0</td>\n",
       "      <td>media/videos/video_33_afe4e212376fe3f1f62e.gif</td>\n",
       "      <td>not downloaded</td>\n",
       "    </tr>\n",
       "    <tr>\n",
       "      <th>...</th>\n",
       "      <td>...</td>\n",
       "      <td>...</td>\n",
       "      <td>...</td>\n",
       "      <td>...</td>\n",
       "      <td>...</td>\n",
       "      <td>...</td>\n",
       "    </tr>\n",
       "    <tr>\n",
       "      <th>199</th>\n",
       "      <td>video</td>\n",
       "      <td>0</td>\n",
       "      <td>0</td>\n",
       "      <td>0</td>\n",
       "      <td>media/videos/video_75_918c5e36aa003f9c2695.gif</td>\n",
       "      <td>not downloaded</td>\n",
       "    </tr>\n",
       "    <tr>\n",
       "      <th>200</th>\n",
       "      <td>video</td>\n",
       "      <td>0</td>\n",
       "      <td>0</td>\n",
       "      <td>0</td>\n",
       "      <td>media/videos/video_84_7b875e970294a7580801.gif</td>\n",
       "      <td>not downloaded</td>\n",
       "    </tr>\n",
       "    <tr>\n",
       "      <th>201</th>\n",
       "      <td>video</td>\n",
       "      <td>0</td>\n",
       "      <td>0</td>\n",
       "      <td>0</td>\n",
       "      <td>media/videos/video_101_c58de27e5003daa08db6.gif</td>\n",
       "      <td>not downloaded</td>\n",
       "    </tr>\n",
       "    <tr>\n",
       "      <th>202</th>\n",
       "      <td>video</td>\n",
       "      <td>0</td>\n",
       "      <td>0</td>\n",
       "      <td>0</td>\n",
       "      <td>media/videos/video_102_b17567b120135f474c0a.gif</td>\n",
       "      <td>not downloaded</td>\n",
       "    </tr>\n",
       "    <tr>\n",
       "      <th>203</th>\n",
       "      <td>image</td>\n",
       "      <td>0</td>\n",
       "      <td>1</td>\n",
       "      <td>1</td>\n",
       "      <td>media/images/image_103_9b522230a4dda59ac3ce.png</td>\n",
       "      <td>not downloaded</td>\n",
       "    </tr>\n",
       "  </tbody>\n",
       "</table>\n",
       "<p>204 rows × 6 columns</p>\n",
       "</div>"
      ],
      "text/plain": [
       "    modality  uid  prediction  label  \\\n",
       "0      image    0           1      1   \n",
       "1      video    0           0      0   \n",
       "2      image    0           0      0   \n",
       "3      video    0           1      1   \n",
       "4      video    0           0      0   \n",
       "..       ...  ...         ...    ...   \n",
       "199    video    0           0      0   \n",
       "200    video    0           0      0   \n",
       "201    video    0           0      0   \n",
       "202    video    0           0      0   \n",
       "203    image    0           1      1   \n",
       "\n",
       "                                      wandb_filepath  local_filepath  \n",
       "0      media/images/image_1_409a85d349a1338aa27d.png  not downloaded  \n",
       "1     media/videos/video_20_97c0e814f13b877483c0.gif  not downloaded  \n",
       "2     media/images/image_29_b82febbfa436c27ffbe8.png  not downloaded  \n",
       "3     media/videos/video_31_5f5af1a43efc63aad39d.gif  not downloaded  \n",
       "4     media/videos/video_33_afe4e212376fe3f1f62e.gif  not downloaded  \n",
       "..                                               ...             ...  \n",
       "199   media/videos/video_75_918c5e36aa003f9c2695.gif  not downloaded  \n",
       "200   media/videos/video_84_7b875e970294a7580801.gif  not downloaded  \n",
       "201  media/videos/video_101_c58de27e5003daa08db6.gif  not downloaded  \n",
       "202  media/videos/video_102_b17567b120135f474c0a.gif  not downloaded  \n",
       "203  media/images/image_103_9b522230a4dda59ac3ce.png  not downloaded  \n",
       "\n",
       "[204 rows x 6 columns]"
      ]
     },
     "execution_count": 7,
     "metadata": {},
     "output_type": "execute_result"
    }
   ],
   "source": [
    "preds_df = results['predictions']\n",
    "\n",
    "# separate image/video preds if you wish\n",
    "image_preds_df = preds_df[preds_df['modality'] == 'image']\n",
    "video_preds_df = preds_df[preds_df['modality'] == 'video']\n",
    "\n",
    "preds_df\n"
   ]
  },
  {
   "cell_type": "code",
   "execution_count": 6,
   "id": "fa91d9b8",
   "metadata": {},
   "outputs": [
    {
     "data": {
      "text/html": [
       "<div>\n",
       "<style scoped>\n",
       "    .dataframe tbody tr th:only-of-type {\n",
       "        vertical-align: middle;\n",
       "    }\n",
       "\n",
       "    .dataframe tbody tr th {\n",
       "        vertical-align: top;\n",
       "    }\n",
       "\n",
       "    .dataframe thead th {\n",
       "        text-align: right;\n",
       "    }\n",
       "</style>\n",
       "<table border=\"1\" class=\"dataframe\">\n",
       "  <thead>\n",
       "    <tr style=\"text-align: right;\">\n",
       "      <th></th>\n",
       "      <th>accuracy</th>\n",
       "      <th>precision</th>\n",
       "      <th>recall</th>\n",
       "      <th>f1</th>\n",
       "      <th>auc</th>\n",
       "      <th>sample_size</th>\n",
       "      <th>uid</th>\n",
       "      <th>modality</th>\n",
       "    </tr>\n",
       "  </thead>\n",
       "  <tbody>\n",
       "    <tr>\n",
       "      <th>0</th>\n",
       "      <td>0.960784</td>\n",
       "      <td>0.937500</td>\n",
       "      <td>0.978261</td>\n",
       "      <td>0.957447</td>\n",
       "      <td>0.962345</td>\n",
       "      <td>102</td>\n",
       "      <td>0</td>\n",
       "      <td>image</td>\n",
       "    </tr>\n",
       "    <tr>\n",
       "      <th>1</th>\n",
       "      <td>0.960784</td>\n",
       "      <td>0.958333</td>\n",
       "      <td>0.958333</td>\n",
       "      <td>0.958333</td>\n",
       "      <td>0.960648</td>\n",
       "      <td>102</td>\n",
       "      <td>0</td>\n",
       "      <td>video</td>\n",
       "    </tr>\n",
       "  </tbody>\n",
       "</table>\n",
       "</div>"
      ],
      "text/plain": [
       "   accuracy  precision    recall        f1       auc  sample_size  uid  \\\n",
       "0  0.960784   0.937500  0.978261  0.957447  0.962345          102    0   \n",
       "1  0.960784   0.958333  0.958333  0.958333  0.960648          102    0   \n",
       "\n",
       "  modality  \n",
       "0    image  \n",
       "1    video  "
      ]
     },
     "execution_count": 6,
     "metadata": {},
     "output_type": "execute_result"
    }
   ],
   "source": [
    "results['performance']"
   ]
  },
  {
   "cell_type": "markdown",
   "id": "ba944235c7aec6da",
   "metadata": {
    "collapsed": false
   },
   "source": [
    "### Testnet Example"
   ]
  },
  {
   "cell_type": "code",
   "execution_count": 6,
   "id": "beff084a4853e438",
   "metadata": {
    "ExecuteTime": {
     "end_time": "2024-09-17T15:37:17.535690Z",
     "start_time": "2024-09-17T15:37:17.121575Z"
    },
    "collapsed": false
   },
   "outputs": [
    {
     "name": "stdout",
     "output_type": "stream",
     "text": [
      "Querying data for uid None starting at 2025-01-04T16:09:49\n"
     ]
    }
   ],
   "source": [
    "project = \"bitmind\"  # mainnet wandb project name\n",
    "entity = \"bitmindai\"\n",
    "validator_run_name = 'validator-39-2.0.3'\n",
    "start_dt = '2025-01-04T16:09:49'\n",
    "# start_dt = formatted_ts_from_epoch(1729494162)\n",
    "end_dt = None\n",
    "\n",
    "miner_uid = None\n",
    "print(f'Querying data for uid {miner_uid} starting at {start_dt}')"
   ]
  },
  {
   "cell_type": "code",
   "execution_count": 7,
   "id": "d844f9310e28daa9",
   "metadata": {
    "ExecuteTime": {
     "end_time": "2024-09-17T15:38:27.833052Z",
     "start_time": "2024-09-17T15:37:24.987545Z"
    },
    "collapsed": false
   },
   "outputs": [
    {
     "name": "stdout",
     "output_type": "stream",
     "text": [
      "Querying w&b with filters: {'display_name': 'validator-39-2.0.3', 'created_at': {'$gte': '2025-01-04T16:09:49'}}\n",
      "Fetched 7 runs\n"
     ]
    }
   ],
   "source": [
    "runs = get_wanbd_runs(entity, project, start_dt, end_dt, validator_run_name)\n",
    "print(f'Fetched {len(runs)} runs')"
   ]
  },
  {
   "cell_type": "code",
   "execution_count": 8,
   "id": "21ed23cf8d100746",
   "metadata": {
    "collapsed": false
   },
   "outputs": [
    {
     "data": {
      "text/plain": [
       "dict_keys(['predictions', 'performance'])"
      ]
     },
     "execution_count": 8,
     "metadata": {},
     "output_type": "execute_result"
    }
   ],
   "source": [
    "results = compute_miner_performance(\n",
    "    runs,\n",
    "    miner_uid=miner_uid,  # example uid\n",
    "    start_ts=epoch_from_formatted_ts(start_dt),\n",
    "    end_ts=epoch_from_formatted_ts(end_dt),\n",
    "    validator_run_name=validator_run_name)\n",
    "\n",
    "results.keys()"
   ]
  },
  {
   "cell_type": "code",
   "execution_count": 9,
   "id": "f19373ee",
   "metadata": {},
   "outputs": [
    {
     "data": {
      "text/html": [
       "<div>\n",
       "<style scoped>\n",
       "    .dataframe tbody tr th:only-of-type {\n",
       "        vertical-align: middle;\n",
       "    }\n",
       "\n",
       "    .dataframe tbody tr th {\n",
       "        vertical-align: top;\n",
       "    }\n",
       "\n",
       "    .dataframe thead th {\n",
       "        text-align: right;\n",
       "    }\n",
       "</style>\n",
       "<table border=\"1\" class=\"dataframe\">\n",
       "  <thead>\n",
       "    <tr style=\"text-align: right;\">\n",
       "      <th></th>\n",
       "      <th>modality</th>\n",
       "      <th>uid</th>\n",
       "      <th>prediction</th>\n",
       "      <th>label</th>\n",
       "      <th>wandb_filepath</th>\n",
       "      <th>local_filepath</th>\n",
       "    </tr>\n",
       "  </thead>\n",
       "  <tbody>\n",
       "    <tr>\n",
       "      <th>0</th>\n",
       "      <td>image</td>\n",
       "      <td>241</td>\n",
       "      <td>1.000000</td>\n",
       "      <td>1</td>\n",
       "      <td>media/images/image_1_84fd5414c6651754e6ec.png</td>\n",
       "      <td>not downloaded</td>\n",
       "    </tr>\n",
       "    <tr>\n",
       "      <th>1</th>\n",
       "      <td>image</td>\n",
       "      <td>241</td>\n",
       "      <td>0.000000</td>\n",
       "      <td>0</td>\n",
       "      <td>media/images/image_8_a744ac90c9df2dbb9d7f.png</td>\n",
       "      <td>not downloaded</td>\n",
       "    </tr>\n",
       "    <tr>\n",
       "      <th>2</th>\n",
       "      <td>image</td>\n",
       "      <td>241</td>\n",
       "      <td>0.000000</td>\n",
       "      <td>1</td>\n",
       "      <td>media/images/image_13_98a593b3ec189e7811cd.png</td>\n",
       "      <td>not downloaded</td>\n",
       "    </tr>\n",
       "    <tr>\n",
       "      <th>3</th>\n",
       "      <td>image</td>\n",
       "      <td>241</td>\n",
       "      <td>0.000000</td>\n",
       "      <td>0</td>\n",
       "      <td>media/images/image_16_cb8eb8b067ee99026937.png</td>\n",
       "      <td>not downloaded</td>\n",
       "    </tr>\n",
       "    <tr>\n",
       "      <th>4</th>\n",
       "      <td>image</td>\n",
       "      <td>241</td>\n",
       "      <td>1.000000</td>\n",
       "      <td>1</td>\n",
       "      <td>media/images/image_24_84fd5414c6651754e6ec.png</td>\n",
       "      <td>not downloaded</td>\n",
       "    </tr>\n",
       "    <tr>\n",
       "      <th>...</th>\n",
       "      <td>...</td>\n",
       "      <td>...</td>\n",
       "      <td>...</td>\n",
       "      <td>...</td>\n",
       "      <td>...</td>\n",
       "      <td>...</td>\n",
       "    </tr>\n",
       "    <tr>\n",
       "      <th>307</th>\n",
       "      <td>image</td>\n",
       "      <td>241</td>\n",
       "      <td>0.000000</td>\n",
       "      <td>0</td>\n",
       "      <td>media/images/image_124_e7d7eb1ca70fe0101106.png</td>\n",
       "      <td>not downloaded</td>\n",
       "    </tr>\n",
       "    <tr>\n",
       "      <th>308</th>\n",
       "      <td>image</td>\n",
       "      <td>248</td>\n",
       "      <td>0.010513</td>\n",
       "      <td>1</td>\n",
       "      <td>media/images/image_125_0eca6bbe8d65f27025fd.png</td>\n",
       "      <td>not downloaded</td>\n",
       "    </tr>\n",
       "    <tr>\n",
       "      <th>309</th>\n",
       "      <td>image</td>\n",
       "      <td>248</td>\n",
       "      <td>0.000122</td>\n",
       "      <td>1</td>\n",
       "      <td>media/images/image_128_a1fa18b585e93412b876.png</td>\n",
       "      <td>not downloaded</td>\n",
       "    </tr>\n",
       "    <tr>\n",
       "      <th>310</th>\n",
       "      <td>image</td>\n",
       "      <td>248</td>\n",
       "      <td>0.017804</td>\n",
       "      <td>0</td>\n",
       "      <td>media/images/image_132_0b4ae266c31d6176071e.png</td>\n",
       "      <td>not downloaded</td>\n",
       "    </tr>\n",
       "    <tr>\n",
       "      <th>311</th>\n",
       "      <td>image</td>\n",
       "      <td>248</td>\n",
       "      <td>0.006553</td>\n",
       "      <td>0</td>\n",
       "      <td>media/images/image_138_65b4376a7f160c8165d6.png</td>\n",
       "      <td>not downloaded</td>\n",
       "    </tr>\n",
       "  </tbody>\n",
       "</table>\n",
       "<p>312 rows × 6 columns</p>\n",
       "</div>"
      ],
      "text/plain": [
       "    modality  uid  prediction  label  \\\n",
       "0      image  241    1.000000      1   \n",
       "1      image  241    0.000000      0   \n",
       "2      image  241    0.000000      1   \n",
       "3      image  241    0.000000      0   \n",
       "4      image  241    1.000000      1   \n",
       "..       ...  ...         ...    ...   \n",
       "307    image  241    0.000000      0   \n",
       "308    image  248    0.010513      1   \n",
       "309    image  248    0.000122      1   \n",
       "310    image  248    0.017804      0   \n",
       "311    image  248    0.006553      0   \n",
       "\n",
       "                                      wandb_filepath  local_filepath  \n",
       "0      media/images/image_1_84fd5414c6651754e6ec.png  not downloaded  \n",
       "1      media/images/image_8_a744ac90c9df2dbb9d7f.png  not downloaded  \n",
       "2     media/images/image_13_98a593b3ec189e7811cd.png  not downloaded  \n",
       "3     media/images/image_16_cb8eb8b067ee99026937.png  not downloaded  \n",
       "4     media/images/image_24_84fd5414c6651754e6ec.png  not downloaded  \n",
       "..                                               ...             ...  \n",
       "307  media/images/image_124_e7d7eb1ca70fe0101106.png  not downloaded  \n",
       "308  media/images/image_125_0eca6bbe8d65f27025fd.png  not downloaded  \n",
       "309  media/images/image_128_a1fa18b585e93412b876.png  not downloaded  \n",
       "310  media/images/image_132_0b4ae266c31d6176071e.png  not downloaded  \n",
       "311  media/images/image_138_65b4376a7f160c8165d6.png  not downloaded  \n",
       "\n",
       "[312 rows x 6 columns]"
      ]
     },
     "execution_count": 9,
     "metadata": {},
     "output_type": "execute_result"
    }
   ],
   "source": [
    "preds_df = results['predictions']\n",
    "\n",
    "# separate image/video preds if you wish\n",
    "image_preds_df = preds_df[preds_df['modality'] == 'image']\n",
    "video_preds_df = preds_df[preds_df['modality'] == 'video']\n",
    "\n",
    "preds_df\n"
   ]
  },
  {
   "cell_type": "code",
   "execution_count": 10,
   "id": "1b67f0b4",
   "metadata": {},
   "outputs": [
    {
     "data": {
      "text/html": [
       "<div>\n",
       "<style scoped>\n",
       "    .dataframe tbody tr th:only-of-type {\n",
       "        vertical-align: middle;\n",
       "    }\n",
       "\n",
       "    .dataframe tbody tr th {\n",
       "        vertical-align: top;\n",
       "    }\n",
       "\n",
       "    .dataframe thead th {\n",
       "        text-align: right;\n",
       "    }\n",
       "</style>\n",
       "<table border=\"1\" class=\"dataframe\">\n",
       "  <thead>\n",
       "    <tr style=\"text-align: right;\">\n",
       "      <th></th>\n",
       "      <th>accuracy</th>\n",
       "      <th>precision</th>\n",
       "      <th>recall</th>\n",
       "      <th>f1</th>\n",
       "      <th>auc</th>\n",
       "      <th>sample_size</th>\n",
       "      <th>uid</th>\n",
       "      <th>modality</th>\n",
       "    </tr>\n",
       "  </thead>\n",
       "  <tbody>\n",
       "    <tr>\n",
       "      <th>0</th>\n",
       "      <td>0.612903</td>\n",
       "      <td>1.000000</td>\n",
       "      <td>0.200000</td>\n",
       "      <td>0.333333</td>\n",
       "      <td>0.600000</td>\n",
       "      <td>155</td>\n",
       "      <td>241</td>\n",
       "      <td>image</td>\n",
       "    </tr>\n",
       "    <tr>\n",
       "      <th>1</th>\n",
       "      <td>0.631944</td>\n",
       "      <td>0.739130</td>\n",
       "      <td>0.265625</td>\n",
       "      <td>0.390805</td>\n",
       "      <td>0.700391</td>\n",
       "      <td>144</td>\n",
       "      <td>248</td>\n",
       "      <td>image</td>\n",
       "    </tr>\n",
       "    <tr>\n",
       "      <th>2</th>\n",
       "      <td>0.307692</td>\n",
       "      <td>0.307692</td>\n",
       "      <td>1.000000</td>\n",
       "      <td>0.470588</td>\n",
       "      <td>0.250000</td>\n",
       "      <td>13</td>\n",
       "      <td>248</td>\n",
       "      <td>video</td>\n",
       "    </tr>\n",
       "  </tbody>\n",
       "</table>\n",
       "</div>"
      ],
      "text/plain": [
       "   accuracy  precision    recall        f1       auc  sample_size  uid  \\\n",
       "0  0.612903   1.000000  0.200000  0.333333  0.600000          155  241   \n",
       "1  0.631944   0.739130  0.265625  0.390805  0.700391          144  248   \n",
       "2  0.307692   0.307692  1.000000  0.470588  0.250000           13  248   \n",
       "\n",
       "  modality  \n",
       "0    image  \n",
       "1    image  \n",
       "2    video  "
      ]
     },
     "execution_count": 10,
     "metadata": {},
     "output_type": "execute_result"
    }
   ],
   "source": [
    "results['performance']"
   ]
  },
  {
   "cell_type": "code",
   "execution_count": null,
   "id": "642f4751",
   "metadata": {},
   "outputs": [],
   "source": []
  }
 ],
 "metadata": {
  "kernelspec": {
   "display_name": "bmsn",
   "language": "python",
   "name": "python3"
  },
  "language_info": {
   "codemirror_mode": {
    "name": "ipython",
    "version": 3
   },
   "file_extension": ".py",
   "mimetype": "text/x-python",
   "name": "python",
   "nbconvert_exporter": "python",
   "pygments_lexer": "ipython3",
   "version": "3.10.14"
  }
 },
 "nbformat": 4,
 "nbformat_minor": 5
}
